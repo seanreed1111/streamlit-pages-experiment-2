{
 "cells": [
  {
   "cell_type": "code",
   "execution_count": null,
   "metadata": {},
   "outputs": [],
   "source": [
    "%pip install --quiet -U langchain_openai"
   ]
  },
  {
   "cell_type": "code",
   "execution_count": null,
   "metadata": {},
   "outputs": [],
   "source": [
    "import os\n",
    "import sys\n",
    "from pathlib import Path\n",
    "from loguru import logger\n",
    "import datetime\n",
    "import tempfile\n",
    "from langchain_openai import AzureChatOpenAI\n",
    "sys.path.append('../src') #needed to get the azure config imports to run\n",
    "from config import LOCAL_CONFIG_DIR, run_azure_config\n",
    "\n",
    "run_azure_config(LOCAL_CONFIG_DIR)"
   ]
  },
  {
   "cell_type": "code",
   "execution_count": null,
   "metadata": {},
   "outputs": [],
   "source": [
    "now = str(datetime.date.today())\n",
    "temp_dir_path = tempfile.mkdtemp(prefix=now)\n",
    "log_file_name = \"quickstart.ipynb.log\" # only for notebooks\n",
    "# log_file_name = Path(__file__) + \".log\" # only for scripts\n",
    "log_file_path = Path(temp_dir_path) / log_file_name  #appends automatically if file exists\n",
    "\n",
    "logger.info(f\"created {temp_dir_path=}\")\n",
    "log_level = \"DEBUG\"\n",
    "log_format = \"<green>{time:YYYY-MM-DD HH:mm:ss.SSS zz}</green> | <level>{level: <8}</level> | <yellow>Line {line: >4} ({file}):</yellow> <b>{message}</b>\"\n",
    "logger.add(sys.stderr, level=log_level, format=log_format, colorize=True, backtrace=True, diagnose=True)\n",
    "logger.add(log_file_path, level=log_level, format=log_format, colorize=False, backtrace=True, diagnose=True)"
   ]
  },
  {
   "cell_type": "code",
   "execution_count": 22,
   "metadata": {},
   "outputs": [
    {
     "name": "stderr",
     "output_type": "stream",
     "text": [
      "\u001b[32m2024-04-07 14:46:22.378\u001b[0m | \u001b[1mINFO    \u001b[0m | \u001b[36m__main__\u001b[0m:\u001b[36m<module>\u001b[0m:\u001b[36m12\u001b[0m - \u001b[1musing gpt 3.5\u001b[0m\n",
      "\u001b[32m2024-04-07 14:46:22.378 EDT\u001b[0m | \u001b[1mINFO    \u001b[0m | \u001b[33mLine   12 (3346147229.py):\u001b[0m \u001b[1musing gpt 3.5\u001b[0m\n"
     ]
    }
   ],
   "source": [
    "use_gpt_4 = input(\"Use GPT 4? (y or y)\").lower()\n",
    "if use_gpt_4 == \"y\":\n",
    "    model_name = os.getenv(\"MODEL_NAME_GPT\")\n",
    "    deployment_name = os.getenv(\n",
    "            \"AZURE_OPENAI_API_DEPLOYMENT_NAME_GPT\"\n",
    "            )\n",
    "    logger.info(\"using gpt 4\")\n",
    "else:\n",
    "    model_name = os.getenv(\"MODEL_NAME_GPT35\")\n",
    "    deployment_name = os.getenv(\n",
    "            \"AZURE_OPENAI_API_DEPLOYMENT_NAME_GPT35\")\n",
    "    logger.info(\"using gpt 3.5\")"
   ]
  },
  {
   "cell_type": "code",
   "execution_count": 23,
   "metadata": {},
   "outputs": [],
   "source": [
    "    llm = AzureChatOpenAI(\n",
    "        temperature=0.05,\n",
    "        streaming=True,\n",
    "        model_name=model_name,\n",
    "        azure_deployment=deployment_name,\n",
    "        azure_endpoint=os.environ[\"AZURE_OPENAI_API_ENDPOINT\"],\n",
    "        openai_api_version=os.environ[\"AZURE_OPENAI_API_VERSION\"],\n",
    "        request_timeout=120,\n",
    "        verbose=False,\n",
    "    )"
   ]
  },
  {
   "cell_type": "code",
   "execution_count": 21,
   "metadata": {},
   "outputs": [
    {
     "data": {
      "text/plain": [
       "('https://opnai-genai-dataanlytics-sb.openai.azure.com/', '2024-03-01-preview')"
      ]
     },
     "execution_count": 21,
     "metadata": {},
     "output_type": "execute_result"
    }
   ],
   "source": [
    "os.environ[\"AZURE_OPENAI_API_ENDPOINT\"],os.environ[\"AZURE_OPENAI_API_VERSION\"]"
   ]
  },
  {
   "cell_type": "code",
   "execution_count": 28,
   "metadata": {},
   "outputs": [],
   "source": [
    "from typing import List\n",
    "\n",
    "from langchain_core.messages import BaseMessage, HumanMessage\n",
    "from langchain_openai import ChatOpenAI\n",
    "from langgraph.graph import END, MessageGraph\n",
    "# from functools import partial #https://mathspp.com/blog/functools-partial\n",
    "\n",
    "graph = MessageGraph()\n",
    "\n",
    "def invoke_model(state: List[BaseMessage]):\n",
    "    return llm.invoke(state)\n",
    "\n",
    "graph.add_node(\"oracle\", invoke_model)\n",
    "graph.add_edge(\"oracle\", END)\n",
    "\n",
    "graph.set_entry_point(\"oracle\")\n",
    "\n",
    "runnable = graph.compile()"
   ]
  },
  {
   "cell_type": "code",
   "execution_count": 29,
   "metadata": {},
   "outputs": [
    {
     "data": {
      "text/plain": [
       "[HumanMessage(content='What is 1 + 1?', id='ca31b179-5e50-4900-b376-957c6d8d0f3d'),\n",
       " AIMessage(content='1 + 1 equals 2.', response_metadata={'finish_reason': 'stop'}, id='run-9df335e3-b39b-43df-a7f3-5d83f163e409-0')]"
      ]
     },
     "execution_count": 29,
     "metadata": {},
     "output_type": "execute_result"
    }
   ],
   "source": [
    "runnable.invoke(HumanMessage(\"What is 1 + 1?\"))"
   ]
  },
  {
   "cell_type": "code",
   "execution_count": null,
   "metadata": {},
   "outputs": [],
   "source": []
  },
  {
   "cell_type": "code",
   "execution_count": 30,
   "metadata": {},
   "outputs": [],
   "source": [
    "import json\n",
    "\n",
    "from langchain_core.messages import ToolMessage\n",
    "from langchain_core.tools import tool\n",
    "from langchain_core.utils.function_calling import convert_to_openai_tool\n",
    "\n",
    "\n",
    "@tool\n",
    "def multiply(first_number: int, second_number: int):\n",
    "    \"\"\"Multiplies two numbers together.\"\"\"\n",
    "    return first_number * second_number\n",
    "\n",
    "llm = AzureChatOpenAI(\n",
    "    temperature=0.05,\n",
    "    streaming=True,\n",
    "    model_name=model_name,\n",
    "    azure_deployment=deployment_name,\n",
    "    azure_endpoint=os.environ[\"AZURE_OPENAI_API_ENDPOINT\"],\n",
    "    openai_api_version=os.environ[\"AZURE_OPENAI_API_VERSION\"],\n",
    "    request_timeout=120,\n",
    "    verbose=False,\n",
    ")\n",
    "model_with_tools = llm.bind(tools=[convert_to_openai_tool(multiply)])\n",
    "\n",
    "graph = MessageGraph()\n",
    "\n",
    "def invoke_model(state: List[BaseMessage]):\n",
    "    return model_with_tools.invoke(state)\n",
    "\n",
    "graph.add_node(\"oracle\", invoke_model)\n",
    "\n",
    "def invoke_tool(state: List[BaseMessage]):\n",
    "    tool_calls = state[-1].additional_kwargs.get(\"tool_calls\", [])\n",
    "    multiply_call = None\n",
    "\n",
    "    for tool_call in tool_calls:\n",
    "        if tool_call.get(\"function\").get(\"name\") == \"multiply\":\n",
    "            multiply_call = tool_call\n",
    "\n",
    "    if multiply_call is None:\n",
    "        raise Exception(\"No adder input found.\")\n",
    "\n",
    "    res = multiply.invoke(\n",
    "        json.loads(multiply_call.get(\"function\").get(\"arguments\"))\n",
    "    )\n",
    "\n",
    "    return ToolMessage(\n",
    "        tool_call_id=multiply_call.get(\"id\"),\n",
    "        content=res\n",
    "    )\n",
    "\n",
    "graph.add_node(\"multiply\", invoke_tool)\n",
    "\n",
    "graph.add_edge(\"multiply\", END)\n",
    "\n",
    "graph.set_entry_point(\"oracle\")"
   ]
  },
  {
   "cell_type": "code",
   "execution_count": 31,
   "metadata": {},
   "outputs": [],
   "source": [
    "def router(state: List[BaseMessage]):\n",
    "    tool_calls = state[-1].additional_kwargs.get(\"tool_calls\", [])\n",
    "    if len(tool_calls):\n",
    "        return \"multiply\"\n",
    "    else:\n",
    "        return \"end\"\n",
    "\n",
    "graph.add_conditional_edges(\"oracle\", router, {\n",
    "    \"multiply\": \"multiply\",\n",
    "    \"end\": END,\n",
    "})"
   ]
  },
  {
   "cell_type": "code",
   "execution_count": 32,
   "metadata": {},
   "outputs": [
    {
     "data": {
      "text/plain": [
       "[HumanMessage(content='What is 12 * 13?', id='82fd79af-2ddb-414d-b5cf-ae91b6f40947'),\n",
       " AIMessage(content='', additional_kwargs={'tool_calls': [{'index': 0, 'id': 'call_v6iZ2PORYvejeNxqBMFWYXyi', 'function': {'arguments': '{\"first_number\":12,\"second_number\":13}', 'name': 'multiply'}, 'type': 'function'}]}, response_metadata={'finish_reason': 'tool_calls'}, id='run-5c0d34e6-253b-4a11-8187-291854fc74ec-0'),\n",
       " ToolMessage(content='156', id='adc13087-650f-4695-bf4e-b6daa170b5ac', tool_call_id='call_v6iZ2PORYvejeNxqBMFWYXyi')]"
      ]
     },
     "execution_count": 32,
     "metadata": {},
     "output_type": "execute_result"
    }
   ],
   "source": [
    "runnable = graph.compile()\n",
    "\n",
    "runnable.invoke(HumanMessage(\"What is 12 * 13?\"))"
   ]
  },
  {
   "cell_type": "code",
   "execution_count": 33,
   "metadata": {},
   "outputs": [
    {
     "data": {
      "text/plain": [
       "[HumanMessage(content='What is your name?', id='ddcd82ac-83b7-4502-ab07-fbd85b1e419d'),\n",
       " AIMessage(content=\"I'm an AI language model and don't have a personal name, but you can call me Assistant! How can I assist you today?\", response_metadata={'finish_reason': 'stop'}, id='run-e6983f83-4a26-4595-a2da-8b93566efc06-0')]"
      ]
     },
     "execution_count": 33,
     "metadata": {},
     "output_type": "execute_result"
    }
   ],
   "source": [
    "runnable.invoke(HumanMessage(\"What is your name?\"))"
   ]
  },
  {
   "cell_type": "code",
   "execution_count": null,
   "metadata": {},
   "outputs": [],
   "source": []
  }
 ],
 "metadata": {
  "kernelspec": {
   "display_name": "Python 3",
   "language": "python",
   "name": "python3"
  },
  "language_info": {
   "codemirror_mode": {
    "name": "ipython",
    "version": 3
   },
   "file_extension": ".py",
   "mimetype": "text/x-python",
   "name": "python",
   "nbconvert_exporter": "python",
   "pygments_lexer": "ipython3",
   "version": "3.10.12"
  }
 },
 "nbformat": 4,
 "nbformat_minor": 2
}
